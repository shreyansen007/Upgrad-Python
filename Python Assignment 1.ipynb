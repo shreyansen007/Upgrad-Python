{
  "cells": [
    {
      "cell_type": "markdown",
      "metadata": {
        "id": "view-in-github",
        "colab_type": "text"
      },
      "source": [
        "<a href=\"https://colab.research.google.com/github/shreyansen007/Upgrad-Python/blob/main/Python%20Assignment%201.ipynb\" target=\"_parent\"><img src=\"https://colab.research.google.com/assets/colab-badge.svg\" alt=\"Open In Colab\"/></a>"
      ]
    },
    {
      "cell_type": "markdown",
      "id": "addf0752-94e5-4272-8996-f8b36b00fbf6",
      "metadata": {
        "id": "addf0752-94e5-4272-8996-f8b36b00fbf6"
      },
      "source": [
        "# 🏫 PYTHON SCHOOL QUEST:\n",
        "## Welcome to Greenfield High!\n",
        "### 🚀 A Fun, Beginner-Friendly Python Adventure! 🚀"
      ]
    },
    {
      "cell_type": "markdown",
      "id": "20e7e9d9-b70c-4d3a-ae7d-47d420774075",
      "metadata": {
        "id": "20e7e9d9-b70c-4d3a-ae7d-47d420774075"
      },
      "source": [
        "## 📖 Chapter 1: The Tech Club's Big Challenge!\n",
        "### It’s an exciting time at Greenfield High! The Tech Club has been given a special project by Principal Williams: help the school become more tech-savvy using Python! 🎉\n",
        "\n",
        "## 👥 Meet the Characters!\n",
        "\n",
        "### 🧑‍🎓 Alex Parker (Main Character - You!)\n",
        "**🔹 Age: 12**\n",
        "\n",
        "**🔹 Grade: 7th**\n",
        "\n",
        "**🔹 Personality: Curious, friendly, and loves problem-solving.**\n",
        "\n",
        "**🔹 Dream: To become a master coder and help the school with technology.**\n",
        "\n",
        "### 👨‍🏫 Mr. Carter (Tech Club Mentor - The Fun Teacher)\n",
        "**🔹 Role: The Tech Club’s mentor and computer science teacher.**\n",
        "\n",
        "**🔹 Fun Fact: Once built a robot that tells jokes!**\n",
        "\n",
        "### 👧 Mia (Best Friend - The Artistic Coder)\n",
        "**🔹 Loves: Art and creativity.**\n",
        "\n",
        "**🔹 Struggles with: Coding, but is excited to learn!**\n",
        "\n",
        "### 👦 Jake (Best Friend - The Math Whiz)\n",
        "**🔹 Loves: Math, numbers, and puzzles.**\n",
        "\n",
        "**🔹 Fun Fact: Solves Rubik’s cubes in under a minute!**\n",
        "\n",
        "### 🤖 Robo-Helper 3000 (AI Assistant - The Funny Robot)\n",
        "**🔹 Role: A small, floating robot built by Mr. Carter to assist students in the Tech Lab.**\n",
        "\n",
        "**🔹 Personality: Friendly, energetic, and sometimes makes silly jokes.**\n",
        "\n",
        "**🔹 Fun Fact: Speaks in robotic puns! 🤖**\n",
        "\n",
        "### 👨‍💼 Principal Williams (The Wise School Leader)\n",
        "**🔹 Role: Principal of Greenfield High.**\n",
        "\n",
        "**🔹 Fun Fact: Wants the school to be the best in technology.**\n",
        "\n",
        "##### 🎯 Mission: Help Greenfield High Using Python!\n",
        "**Today, Mr. Carter has given Alex (you!) 15 exciting challenges to solve! 💻✨**"
      ]
    },
    {
      "cell_type": "markdown",
      "id": "92f4e05d-ada6-4423-b4c9-ce2cf1e94dab",
      "metadata": {
        "id": "92f4e05d-ada6-4423-b4c9-ce2cf1e94dab"
      },
      "source": [
        "# 💻 Python Challenges Begin! 🚀\n",
        "## 📌 TASK 1: Student Enrollment System (Variables & Identifiers)\n",
        "### 🔹 Scenario:\n",
        "**Greenfield High is enrolling new students, and the system needs to store student information correctly.**\n",
        "\n",
        "**📝 Mr. Carter’s Instructions:**\n",
        "\n",
        "**Create variables for a student’s name, student ID, and house color (Red, Blue, Green, or Yellow).**\n",
        "\n",
        "**Print the details in a friendly format.**\n",
        "\n",
        "**✅ Example Output:**\n",
        "\n",
        "##### Student Name: Emma\n",
        "##### Student ID: G2025\n",
        "##### House Color: Yellow"
      ]
    },
    {
      "cell_type": "code",
      "execution_count": 1,
      "id": "83af44bb-cbb0-4966-9c7b-c5a0ef421c57",
      "metadata": {
        "colab": {
          "base_uri": "https://localhost:8080/"
        },
        "id": "83af44bb-cbb0-4966-9c7b-c5a0ef421c57",
        "outputId": "3b299dc7-593a-40da-d79e-581815d49152"
      },
      "outputs": [
        {
          "output_type": "stream",
          "name": "stdout",
          "text": [
            "Student Name: Emma\n",
            "Student ID: G2025\n",
            "House Color: Yellow\n"
          ]
        }
      ],
      "source": [
        "#Write the above code for practice\n",
        "name='Emma'\n",
        "id='G2025'\n",
        "color='Yellow'\n",
        "print('Student Name:',name)\n",
        "print('Student ID:',id)\n",
        "print('House Color:',color)"
      ]
    },
    {
      "cell_type": "markdown",
      "id": "f4e0c985-f7c4-44f0-9c77-145d1194bb81",
      "metadata": {
        "id": "f4e0c985-f7c4-44f0-9c77-145d1194bb81"
      },
      "source": [
        "**🚨 Fix This Code below (What’s Wrong?) 👉 Explain why these variable names are incorrect and rewrite them correctly.**"
      ]
    },
    {
      "cell_type": "code",
      "execution_count": 3,
      "id": "efadb9f5-5907-41f7-97c0-50f631aa94a1",
      "metadata": {
        "id": "efadb9f5-5907-41f7-97c0-50f631aa94a1"
      },
      "outputs": [],
      "source": [
        "#Fix the below code\n",
        "#1name = \"Emma\"           -> variable cannot start with a number.\n",
        "#student-ID = \"G2024\"     -> variable cannot have hyphen instead we can use underscore.\n",
        "#class = \"Yellow\"         -> variable cannot be named by keyword.\n",
        "\n",
        "name=\"Emma\"\n",
        "student_id=\"G2024\"\n",
        "house_color=\"Yellow\""
      ]
    },
    {
      "cell_type": "markdown",
      "id": "17f80384-3bbe-4ba5-9941-3660acb24d27",
      "metadata": {
        "id": "17f80384-3bbe-4ba5-9941-3660acb24d27"
      },
      "source": [
        "## 📌 TASK 2: Counting Students (Data Types & Typecasting)\n",
        "### 🔹 Scenario:\n",
        "**Principal Williams wants to know how many students are in school, but the system mistakenly stores the number as a string!**\n",
        "\n",
        "**📝 Jake’s Question:**\n",
        "\n",
        "**\"Hey Alex, why can’t I add 100 to total_students?\"**\n",
        "\n",
        "**📝 Your Task:**\n",
        "\n",
        "**Convert total_students from string to integer.**\n",
        "\n",
        "**Print the correct total number of students.**\n",
        "\n",
        "**❌ Broken Code: ✅ Fix the below code using typecasting!**"
      ]
    },
    {
      "cell_type": "code",
      "execution_count": 4,
      "id": "751bfb12-0010-4299-830a-c616546c4954",
      "metadata": {
        "colab": {
          "base_uri": "https://localhost:8080/"
        },
        "id": "751bfb12-0010-4299-830a-c616546c4954",
        "outputId": "c528767c-74e2-4d0e-d958-a5902c3a028d"
      },
      "outputs": [
        {
          "output_type": "stream",
          "name": "stdout",
          "text": [
            "600\n"
          ]
        }
      ],
      "source": [
        "#Fix the below code\n",
        "total_students = \"500\"\n",
        "print(int(total_students) + 100)  #Fixed"
      ]
    },
    {
      "cell_type": "markdown",
      "id": "27dc306d-96f4-405d-94c6-9d8899b54e68",
      "metadata": {
        "id": "27dc306d-96f4-405d-94c6-9d8899b54e68"
      },
      "source": [
        "## 📌 TASK 3: Registering for the School Event (Input & Typecasting)\n",
        "### 🔹 Scenario:\n",
        "**The school is hosting a Chess Tournament, and students must be at least 12 years old to participate.**\n",
        "\n",
        "**📝 Your Task:**\n",
        "\n",
        "**Ask the user to enter their age.**\n",
        "\n",
        "**Convert the input to an integer.**\n",
        "\n",
        "**Print if they are eligible or not.**\n",
        "\n",
        "**❌ Broken Code: ✅ Fix the below code using typecasting!**"
      ]
    },
    {
      "cell_type": "code",
      "execution_count": 9,
      "id": "1961eba7-83bc-4dd6-b53b-d5b8c50bf2b7",
      "metadata": {
        "colab": {
          "base_uri": "https://localhost:8080/"
        },
        "id": "1961eba7-83bc-4dd6-b53b-d5b8c50bf2b7",
        "outputId": "45fc3ca8-5816-4532-b5ac-1ca49be85259"
      },
      "outputs": [
        {
          "output_type": "stream",
          "name": "stdout",
          "text": [
            "Enter your age: 13\n",
            "You are eligible!\n"
          ]
        }
      ],
      "source": [
        "#Fix the below code\n",
        "age = input(\"Enter your age: \")\n",
        "age = int(age)\n",
        "if age > 12:\n",
        "    print(\"You are eligible!\")\n",
        "else:\n",
        "    print(\"You are not eligible!\")"
      ]
    },
    {
      "cell_type": "markdown",
      "id": "93615f5d-a88b-4fee-9518-d6516c2daeee",
      "metadata": {
        "id": "93615f5d-a88b-4fee-9518-d6516c2daeee"
      },
      "source": [
        "## 📌 TASK 4: Printing Announcements (String Formatting)\n",
        "### 🔹 Scenario:\n",
        "**Principal Williams needs to announce the winners of the Math Contest.**\n",
        "\n",
        "**📝 Your Task:**\n",
        "\n",
        "**Print the announcement using:**\n",
        "\n",
        "**String concatenation**\n",
        "    \n",
        "**.format() method**\n",
        "    \n",
        "**f-string**\n",
        "\n",
        "**✅ Final Output: Congratulations to Liam for scoring 95 points in the Math Contest!**"
      ]
    },
    {
      "cell_type": "code",
      "execution_count": 10,
      "id": "0800102b-ab6d-4e6b-8025-06ac074576da",
      "metadata": {
        "colab": {
          "base_uri": "https://localhost:8080/"
        },
        "id": "0800102b-ab6d-4e6b-8025-06ac074576da",
        "outputId": "12297501-dbb5-4b7d-8198-cd99a2f3538b"
      },
      "outputs": [
        {
          "output_type": "stream",
          "name": "stdout",
          "text": [
            "Congratulations to Liam for scoring 95 points in the Math Contest!\n",
            "Congratulations to Liam for scoring 95 points in the Math Contest!\n",
            "Congratulations to Liam for scoring 95 points in the Math Contest!\n"
          ]
        }
      ],
      "source": [
        "# String concatenation\n",
        "name = \"Liam\"\n",
        "score = 95\n",
        "announcement = \"Congratulations to \" + name + \" for scoring \" + str(score) + \" points in the Math Contest!\"\n",
        "print(announcement)\n",
        "\n",
        "# .format() method\n",
        "name1 = \"Liam\"\n",
        "score1 = 95\n",
        "announcement1 = \"Congratulations to {} for scoring {} points in the Math Contest!\".format(name1, score1)\n",
        "print(announcement1)\n",
        "\n",
        "# f-string\n",
        "name2 = \"Liam\"\n",
        "score2 = 95\n",
        "announcement2 = f\"Congratulations to {name2} for scoring {score2} points in the Math Contest!\"\n",
        "print(announcement2)"
      ]
    },
    {
      "cell_type": "markdown",
      "id": "d0db07e3-bd1b-4619-b7bb-e3664c17a8dd",
      "metadata": {
        "id": "d0db07e3-bd1b-4619-b7bb-e3664c17a8dd"
      },
      "source": [
        "## 📌 TASK 5: Fun with Printing (sep & end)\n",
        "### 🔹 Scenario:\n",
        "**Mia is designing a poster for an upcoming event and wants the words printed in a special way.**\n",
        "\n",
        "**📝 Your Task:**\n",
        "\n",
        "**Use the sep and end parameters in print() to format this output:**\n",
        "\n",
        "**✅ Final Output: Below is the expected output**\n"
      ]
    },
    {
      "cell_type": "code",
      "execution_count": null,
      "id": "a3e848af-c4e0-4456-8d64-ea0ec81a4242",
      "metadata": {
        "id": "a3e848af-c4e0-4456-8d64-ea0ec81a4242"
      },
      "outputs": [],
      "source": [
        "Greenfield - High - Coding - Club!\n",
        "This is going to be fun! 🎉"
      ]
    },
    {
      "cell_type": "code",
      "execution_count": 11,
      "id": "0e1aa4d6-794e-454d-abd7-86a7fb3802fc",
      "metadata": {
        "colab": {
          "base_uri": "https://localhost:8080/"
        },
        "id": "0e1aa4d6-794e-454d-abd7-86a7fb3802fc",
        "outputId": "7bb039eb-0866-4617-ce9c-6b9f94f709ae"
      },
      "outputs": [
        {
          "output_type": "stream",
          "name": "stdout",
          "text": [
            "Greenfield - High - Coding - Club!\n",
            "This is going to be fun! 🎉\n"
          ]
        }
      ],
      "source": [
        "#Write the code here\n",
        "print('Greenfield', 'High', 'Coding', 'Club!', sep=' - ')\n",
        "print('This is going to be fun!', end=' ')\n",
        "print('🎉')"
      ]
    },
    {
      "cell_type": "markdown",
      "id": "32a9bdc2-322c-4810-a914-fe33eb3f2165",
      "metadata": {
        "id": "32a9bdc2-322c-4810-a914-fe33eb3f2165"
      },
      "source": [
        "## 📌 TASK 6: Secret Message with Variables\n",
        "### 🔹 Scenario:\n",
        "**Mia wants to store a secret message for a surprise event.**\n",
        "\n",
        "**📝 Your Task:**\n",
        "\n",
        "**Create three variables: word1, word2, and word3.**\n",
        "                                     \n",
        "**Store different words in each.**\n",
        "                                     \n",
        "**Print them in a single sentence using string concatenation. You can store any value in those variables**"
      ]
    },
    {
      "cell_type": "code",
      "execution_count": 12,
      "id": "225ab9dc-746c-44ee-a860-86bd4baae014",
      "metadata": {
        "colab": {
          "base_uri": "https://localhost:8080/"
        },
        "id": "225ab9dc-746c-44ee-a860-86bd4baae014",
        "outputId": "be71afae-d1c0-4301-fe75-ec7bc9485a78"
      },
      "outputs": [
        {
          "output_type": "stream",
          "name": "stdout",
          "text": [
            "I am Shreyan\n"
          ]
        }
      ],
      "source": [
        "#Write the code here\n",
        "word1 = \"I\"\n",
        "word2 = \"am\"\n",
        "word3 = \"Shreyan\"\n",
        "print(word1 + \" \" + word2 + \" \" + word3)"
      ]
    },
    {
      "cell_type": "markdown",
      "source": [],
      "metadata": {
        "id": "_sauTeRTDv5D"
      },
      "id": "_sauTeRTDv5D"
    },
    {
      "cell_type": "markdown",
      "id": "55c760a2-5d2b-4725-8751-0de36a5e8ed5",
      "metadata": {
        "id": "55c760a2-5d2b-4725-8751-0de36a5e8ed5"
      },
      "source": [
        "## 📌 TASK 7: Fix the Print Output\n",
        "### 🔹 Scenario:\n",
        "**Jake wrote the following code but it prints incorrectly:**\n",
        "\n",
        "**👉 Fix the code so that it prints:**\n",
        "\n",
        "**The winner is Emma with a score of 95!!!**\n"
      ]
    },
    {
      "cell_type": "code",
      "execution_count": 13,
      "id": "b2f85bd5-6df1-4cdd-ae28-a3344a472f6a",
      "metadata": {
        "colab": {
          "base_uri": "https://localhost:8080/"
        },
        "id": "b2f85bd5-6df1-4cdd-ae28-a3344a472f6a",
        "outputId": "0334be84-78c6-4423-d517-a706f85e7cae"
      },
      "outputs": [
        {
          "output_type": "stream",
          "name": "stdout",
          "text": [
            "The winner is Emma with a score of 95!!!"
          ]
        }
      ],
      "source": [
        "#Fix the code below\n",
        "print(\"The winner is\", \"Emma\", \"with a score of\", 95, sep=\" \", end=\"!!!\")"
      ]
    },
    {
      "cell_type": "markdown",
      "id": "6700cb5a-8885-41ac-a12a-97eae34d51ad",
      "metadata": {
        "id": "6700cb5a-8885-41ac-a12a-97eae34d51ad"
      },
      "source": [
        "## 📌 TASK 8: School Store Purchase\n",
        "### 🔹 Scenario:\n",
        "**Mia needs 5 notebooks, and each costs $4.**\n",
        "\n",
        "**✅ Fix the broken code:**"
      ]
    },
    {
      "cell_type": "code",
      "execution_count": 16,
      "id": "e5eb4052-9c5a-4e6c-8693-4e29f028a9a5",
      "metadata": {
        "colab": {
          "base_uri": "https://localhost:8080/"
        },
        "id": "e5eb4052-9c5a-4e6c-8693-4e29f028a9a5",
        "outputId": "88bbbf1e-0957-4f87-d693-7cfcf2690a97"
      },
      "outputs": [
        {
          "output_type": "stream",
          "name": "stdout",
          "text": [
            "Total cost:  20 $\n"
          ]
        }
      ],
      "source": [
        "#Fix the below code\n",
        "price = \"4\"\n",
        "quantity = 5\n",
        "total = int(price) * quantity  #Fixed\n",
        "print(\"Total cost: \", total, \"$\")"
      ]
    },
    {
      "cell_type": "markdown",
      "id": "83e949ee-e608-4f89-a163-e22ccf346abc",
      "metadata": {
        "id": "83e949ee-e608-4f89-a163-e22ccf346abc"
      },
      "source": [
        "## 📌 TASK 9: Student Info with f-strings\n",
        "### 🔹 Scenario:\n",
        "**Ask the user to enter their name, grade, and favorite subject, then print it using an f-string.**"
      ]
    },
    {
      "cell_type": "code",
      "execution_count": 19,
      "id": "a85e57ed-f2a2-4f1e-b3b2-839adffebb15",
      "metadata": {
        "colab": {
          "base_uri": "https://localhost:8080/"
        },
        "id": "a85e57ed-f2a2-4f1e-b3b2-839adffebb15",
        "outputId": "83f983c8-8be8-43b7-fedd-7e0d4d60db72"
      },
      "outputs": [
        {
          "output_type": "stream",
          "name": "stdout",
          "text": [
            "Enter your name: Shreyan\n",
            "Enter your grade: 90\n",
            "Enter your favorite subject: Physics\n",
            "Name: Shreyan\n",
            "Grade: 90\n",
            "Favorite Subject: Physics\n"
          ]
        }
      ],
      "source": [
        "#Write the code below\n",
        "name = input(\"Enter your name: \")\n",
        "grade = input(\"Enter your grade: \")\n",
        "subject = input(\"Enter your favorite subject: \")\n",
        "print(f\"Name: {name}\\nGrade: {grade}\\nFavorite Subject: {subject}\")"
      ]
    },
    {
      "cell_type": "markdown",
      "id": "6571c0ee-45cd-4484-a31a-f93a4ea0d732",
      "metadata": {
        "id": "6571c0ee-45cd-4484-a31a-f93a4ea0d732"
      },
      "source": [
        "## 📌 TASK 10: The Mystery Code\n",
        "### 🔹 Scenario:\n",
        "**What will be the output of this code? See if you are understanding or not**"
      ]
    },
    {
      "cell_type": "code",
      "execution_count": 21,
      "id": "a42e17b0-8c81-4057-a22a-a5ce173d4ffc",
      "metadata": {
        "colab": {
          "base_uri": "https://localhost:8080/"
        },
        "id": "a42e17b0-8c81-4057-a22a-a5ce173d4ffc",
        "outputId": "95377163-5a50-40d7-c47a-f48c6e5b0e2d"
      },
      "outputs": [
        {
          "output_type": "stream",
          "name": "stdout",
          "text": [
            "Hello-Python! Let's learn more!\n"
          ]
        }
      ],
      "source": [
        "print(\"Hello\", \"Python\", sep=\"-\", end=\"! \")\n",
        "print(\"Let's learn more!\")\n",
        "\n",
        "#Output:\n",
        "#Hello-Python! Let's learn more!"
      ]
    },
    {
      "cell_type": "markdown",
      "id": "f52f187e-7f9e-4979-aa7f-e8f627342d50",
      "metadata": {
        "id": "f52f187e-7f9e-4979-aa7f-e8f627342d50"
      },
      "source": [
        "## 📌 TASK 11: Fix the Percentage Format\n",
        "### 🔹 Scenario:\n",
        "**Jake wants to format his exam score properly. Fix this: The Expected output is**\n",
        "\n",
        "**You scored 92%!**"
      ]
    },
    {
      "cell_type": "code",
      "execution_count": 26,
      "id": "083bb8a0-e9e0-40e4-9a18-b764de60aa2a",
      "metadata": {
        "colab": {
          "base_uri": "https://localhost:8080/"
        },
        "id": "083bb8a0-e9e0-40e4-9a18-b764de60aa2a",
        "outputId": "6eae30f2-1b5c-44de-fb7d-0ff0ad117828"
      },
      "outputs": [
        {
          "output_type": "stream",
          "name": "stdout",
          "text": [
            "You scored 92%!"
          ]
        }
      ],
      "source": [
        "#Fix this code\n",
        "score = 92\n",
        "print(\"You scored \", score, \"%\", sep=\"\", end=\"!\")   #Fixed"
      ]
    },
    {
      "cell_type": "markdown",
      "id": "397375db-e859-4895-8733-766910884d4d",
      "metadata": {
        "id": "397375db-e859-4895-8733-766910884d4d"
      },
      "source": [
        "## 📌 TASK 12: Using .format() Correctly\n",
        "### 🔹 Scenario:\n",
        "**Rewrite this using .format():**"
      ]
    },
    {
      "cell_type": "code",
      "execution_count": null,
      "id": "499437a5-d365-46b5-bb4d-77f6db3760b1",
      "metadata": {
        "id": "499437a5-d365-46b5-bb4d-77f6db3760b1"
      },
      "outputs": [],
      "source": [
        "#Rewrite this code with .format()\n",
        "name = \"Alex\"\n",
        "print(f\"Welcome, {name}!\")"
      ]
    },
    {
      "cell_type": "markdown",
      "id": "e68141d0-1ab1-4148-a8fb-2d51b96bdd31",
      "metadata": {
        "id": "e68141d0-1ab1-4148-a8fb-2d51b96bdd31"
      },
      "source": [
        "## 📌 TASK 13: Number Input Fix\n",
        "### 🔹 Scenario:\n",
        "**Fix this input error:**"
      ]
    },
    {
      "cell_type": "code",
      "execution_count": null,
      "id": "3aba74e7-9158-43c9-92a4-b2869381a99d",
      "metadata": {
        "id": "3aba74e7-9158-43c9-92a4-b2869381a99d"
      },
      "outputs": [],
      "source": [
        "#Fix the code\n",
        "num1 = input(\"Enter a number: \")\n",
        "num2 = input(\"Enter another number: \")\n",
        "print(num1 + num2)"
      ]
    },
    {
      "cell_type": "markdown",
      "id": "de97de41-bd8a-4ac0-b2d5-e8b9f9a5693f",
      "metadata": {
        "id": "de97de41-bd8a-4ac0-b2d5-e8b9f9a5693f"
      },
      "source": [
        "## 📌 TASK 14: Fun with f-strings\n",
        "### 🔹 Scenario:\n",
        "**Use f-strings to print:**"
      ]
    },
    {
      "cell_type": "code",
      "execution_count": null,
      "id": "69515171-1709-4a47-bfeb-1485d5abaa3d",
      "metadata": {
        "id": "69515171-1709-4a47-bfeb-1485d5abaa3d"
      },
      "outputs": [],
      "source": [
        "Alex is 12 years old and loves Python!"
      ]
    },
    {
      "cell_type": "code",
      "execution_count": null,
      "id": "2a82a6c0-ea68-457e-bf04-426d6e708dc5",
      "metadata": {
        "id": "2a82a6c0-ea68-457e-bf04-426d6e708dc5"
      },
      "outputs": [],
      "source": [
        "#Write the code to print the above line"
      ]
    },
    {
      "cell_type": "markdown",
      "id": "ae911e23-a609-4bd8-81ab-489ea217f4fe",
      "metadata": {
        "id": "ae911e23-a609-4bd8-81ab-489ea217f4fe"
      },
      "source": [
        "## 📌 TASK 15: School Motto Formatting\n",
        "### 🔹 Scenario:\n",
        "**Print the school motto using a .format(), f-strings, and concatenation! Print the same motto with all the three methods**\n",
        "\n",
        "**Our motto: Welcome to Greenfield High! Our motto is Learn, Innovate, Succeed.**"
      ]
    },
    {
      "cell_type": "code",
      "execution_count": null,
      "id": "9bb55244-2081-432a-a362-f12c6a8c5f56",
      "metadata": {
        "id": "9bb55244-2081-432a-a362-f12c6a8c5f56"
      },
      "outputs": [],
      "source": [
        "#Write the code here"
      ]
    },
    {
      "cell_type": "markdown",
      "id": "04af4346-78dd-409c-8667-b4a21ac8730e",
      "metadata": {
        "id": "04af4346-78dd-409c-8667-b4a21ac8730e"
      },
      "source": [
        "# 🎉 MISSION COMPLETE!\n",
        "## Great job, Alex! You have successfully helped Greenfield High using Python! 🚀💡"
      ]
    },
    {
      "cell_type": "markdown",
      "id": "71184d4c-8e81-4737-9114-fdba759221c7",
      "metadata": {
        "id": "71184d4c-8e81-4737-9114-fdba759221c7"
      },
      "source": [
        "**(c) Rahul Tiwari**"
      ]
    }
  ],
  "metadata": {
    "kernelspec": {
      "display_name": "Python 3 (ipykernel)",
      "language": "python",
      "name": "python3"
    },
    "language_info": {
      "codemirror_mode": {
        "name": "ipython",
        "version": 3
      },
      "file_extension": ".py",
      "mimetype": "text/x-python",
      "name": "python",
      "nbconvert_exporter": "python",
      "pygments_lexer": "ipython3",
      "version": "3.12.4"
    },
    "colab": {
      "provenance": [],
      "include_colab_link": true
    }
  },
  "nbformat": 4,
  "nbformat_minor": 5
}